{
 "cells": [
  {
   "cell_type": "code",
   "execution_count": 1,
   "id": "714089c0",
   "metadata": {},
   "outputs": [],
   "source": [
    "import pandas as pd\n",
    "import torch\n",
    "from torch import nn, optim\n",
    "from torch.nn import functional as F\n",
    "from torch.utils.data import Dataset, DataLoader, random_split\n",
    "\n",
    "SEED = 1003\n",
    "generator = torch.Generator().manual_seed(SEED)"
   ]
  },
  {
   "cell_type": "code",
   "execution_count": 2,
   "id": "05cebf51",
   "metadata": {},
   "outputs": [],
   "source": [
    "class DataSet(Dataset):\n",
    "    \n",
    "    def __init__(self, tensors_loc, df_loc):\n",
    "        self.tensors = torch.load(tensors_loc)\n",
    "        self.df = pd.read_csv(df_loc)\n",
    "        self.labels = torch.from_numpy(self.df.loc[:, 'ukrainian'].values).float()\n",
    "        self.msg = self.df.loc[:, 'msg'].values\n",
    "        self.normalized_tensors = (self.tensors - self.tensors.mean(0)) / self.tensors.std(0)\n",
    "\n",
    "    def __len__(self):\n",
    "        return len(self.df)\n",
    "\n",
    "    def __getitem__(self, idx):\n",
    "        return self.tensors[idx], self.labels[idx]"
   ]
  },
  {
   "cell_type": "code",
   "execution_count": 3,
   "id": "5b25d817",
   "metadata": {},
   "outputs": [
    {
     "data": {
      "text/plain": [
       "(138059, 110448)"
      ]
     },
     "execution_count": 3,
     "metadata": {},
     "output_type": "execute_result"
    }
   ],
   "source": [
    "dataset = DataSet('word_tensors.pt', 'processed.csv')\n",
    "train_dataset, val_dataset, test_dataset = random_split(dataset, lengths=[.8, .1, .1], generator=generator)\n",
    "train_mean = train_dataset.dataset.tensors[train_dataset.indices].mean(0)\n",
    "train_std = train_dataset.dataset.tensors[train_dataset.indices].std(0)\n",
    "\n",
    "train_dataset.dataset.tensors[train_dataset.indices] -= train_mean\n",
    "val_dataset.dataset.tensors[val_dataset.indices] -= train_mean\n",
    "test_dataset.dataset.tensors[test_dataset.indices] -= train_mean\n",
    "\n",
    "train_dataset.dataset.tensors[train_dataset.indices] /= train_std\n",
    "val_dataset.dataset.tensors[val_dataset.indices] /= train_std\n",
    "test_dataset.dataset.tensors[test_dataset.indices] /= train_std\n",
    "len(dataset), len(train_dataset)"
   ]
  },
  {
   "cell_type": "code",
   "execution_count": 4,
   "id": "1168ac94",
   "metadata": {},
   "outputs": [],
   "source": [
    "train = DataLoader(train_dataset, batch_size=1_000, shuffle=True)\n",
    "val = DataLoader(val_dataset, batch_size=1_000, shuffle=True)\n",
    "test = DataLoader(test_dataset, batch_size=1_000, shuffle=True)"
   ]
  },
  {
   "cell_type": "code",
   "execution_count": 5,
   "id": "41ed72a1",
   "metadata": {},
   "outputs": [],
   "source": [
    "class Model(nn.Module):\n",
    "    \n",
    "    def __init__(self, dropout=.25):\n",
    "        super().__init__()\n",
    "        self.dropout = nn.Dropout(dropout) \n",
    "        self.fc1 = nn.Linear(300, 64)\n",
    "        self.bn1 = nn.BatchNorm1d(64)\n",
    "        self.fc2 = nn.Linear(64, 16)\n",
    "        self.bn2 = nn.BatchNorm1d(16)\n",
    "        self.fc3 = nn.Linear(16, 1)\n",
    "    \n",
    "    def forward(self, x):\n",
    "        x = F.relu(self.fc1(x))\n",
    "        x = self.bn1(x)\n",
    "        x = self.dropout(x)\n",
    "        x = F.relu(self.fc2(x))\n",
    "        x = self.bn2(x)\n",
    "        x = self.dropout(x)\n",
    "        x = F.sigmoid(self.fc3(x)).view(-1)\n",
    "        return x"
   ]
  },
  {
   "cell_type": "code",
   "execution_count": 6,
   "id": "0a4a22c4",
   "metadata": {},
   "outputs": [],
   "source": [
    "model = Model()\n",
    "L = nn.BCELoss()\n",
    "optimizer = optim.Adam(model.parameters(), weight_decay=1e-5)"
   ]
  },
  {
   "cell_type": "code",
   "execution_count": 7,
   "id": "5d3ef674",
   "metadata": {},
   "outputs": [],
   "source": [
    "def train_one_epoch(epoch_index):\n",
    "    global train, L, optimizer, model\n",
    "    train_loss = 0.\n",
    "\n",
    "    for i, (x, labels) in enumerate(train):\n",
    "        out = model(x)\n",
    "        loss = L(out, labels)\n",
    "        optimizer.zero_grad()\n",
    "        loss.backward()\n",
    "        optimizer.step()\n",
    "\n",
    "        train_loss += loss.item()\n",
    "\n",
    "    return train_loss / (i + 1)"
   ]
  },
  {
   "cell_type": "code",
   "execution_count": 8,
   "id": "0a7a2fde",
   "metadata": {},
   "outputs": [
    {
     "name": "stdout",
     "output_type": "stream",
     "text": [
      "EPOCH 1:\n",
      "72.4\n",
      "LOSS train 0.602 valid 0.546\n",
      "EPOCH 6:\n",
      "74.9\n",
      "LOSS train 0.504 valid 0.503\n",
      "EPOCH 11:\n",
      "75.6\n",
      "LOSS train 0.485 valid 0.492\n",
      "EPOCH 16:\n",
      "75.9\n",
      "LOSS train 0.470 valid 0.488\n",
      "EPOCH 21:\n",
      "76.1\n",
      "LOSS train 0.460 valid 0.488\n",
      "EPOCH 26:\n",
      "76.2\n",
      "LOSS train 0.452 valid 0.484\n",
      "EPOCH 31:\n",
      "76.8\n",
      "LOSS train 0.447 valid 0.486\n",
      "EPOCH 36:\n",
      "76.4\n",
      "LOSS train 0.441 valid 0.485\n",
      "EPOCH 41:\n",
      "77.0\n",
      "LOSS train 0.437 valid 0.482\n",
      "EPOCH 46:\n",
      "76.6\n",
      "LOSS train 0.435 valid 0.484\n"
     ]
    }
   ],
   "source": [
    "EPOCHS = 50\n",
    "\n",
    "best_vloss = 1_000_000.\n",
    "\n",
    "for epoch in range(EPOCHS):\n",
    "    \n",
    "    model.train()\n",
    "    train_loss = train_one_epoch(epoch)\n",
    "    \n",
    "\n",
    "    model.eval()\n",
    "    val_loss = 0.0\n",
    "    for i, (x, labels) in enumerate(val):\n",
    "        out = model(x)\n",
    "        vloss = L(out, labels)\n",
    "        val_loss += vloss.item()\n",
    "    \n",
    "    x, labels = val_dataset[:]\n",
    "    out = model(x)\n",
    "    \n",
    "    if epoch % (EPOCHS // 10) == 0:\n",
    "        print('EPOCH {}:'.format(epoch + 1))\n",
    "        print(f'{100 * (out.round() == labels).float().mean().item():.1f}%')\n",
    "        print('LOSS train {:.3f} valid {:.3f}'.format(train_loss, val_loss / (i + 1)))"
   ]
  },
  {
   "cell_type": "code",
   "execution_count": 11,
   "id": "c586ad92",
   "metadata": {},
   "outputs": [
    {
     "name": "stdout",
     "output_type": "stream",
     "text": [
      "Final Test Accuracy\n",
      "76.8%\n"
     ]
    }
   ],
   "source": [
    "x, labels = test_dataset[:]\n",
    "out = model(x)\n",
    "print('Final Test Accuracy')\n",
    "print(f'{100 * (out.round() == labels).float().mean().item():.1f}%')"
   ]
  },
  {
   "cell_type": "code",
   "execution_count": 12,
   "id": "98d2c70d",
   "metadata": {},
   "outputs": [],
   "source": [
    "torch.save(model.state_dict(), 'DL_model_on_DL_vectors.pt')"
   ]
  }
 ],
 "metadata": {
  "kernelspec": {
   "display_name": "Python 3 (ipykernel)",
   "language": "python",
   "name": "python3"
  },
  "language_info": {
   "codemirror_mode": {
    "name": "ipython",
    "version": 3
   },
   "file_extension": ".py",
   "mimetype": "text/x-python",
   "name": "python",
   "nbconvert_exporter": "python",
   "pygments_lexer": "ipython3",
   "version": "3.9.5"
  }
 },
 "nbformat": 4,
 "nbformat_minor": 5
}
