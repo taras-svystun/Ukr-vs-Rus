{
 "cells": [
  {
   "cell_type": "code",
   "execution_count": 52,
   "id": "d8d03ceb",
   "metadata": {},
   "outputs": [],
   "source": [
    "import pandas as pd\n",
    "import numpy as np\n",
    "import torch\n",
    "from time import time, sleep\n",
    "from IPython.display import clear_output\n",
    "import warnings\n",
    "warnings.filterwarnings('ignore')\n",
    "from scipy.spatial.distance import cdist\n",
    "\n",
    "import spacy\n"
   ]
  },
  {
   "cell_type": "code",
   "execution_count": 25,
   "id": "ae967f3a",
   "metadata": {},
   "outputs": [],
   "source": [
    "# !pip install -U pip setuptools wheel\n",
    "# !pip install -U 'spacy[apple]'\n",
    "# !pip install --upgrade spacy\n",
    "# !pip uninstall en_core_web_sm, en_core_web_sm, pt_core_news_sm, ru_core_news_sm\n",
    "# sleep(1)\n",
    "# clear_output()"
   ]
  },
  {
   "cell_type": "code",
   "execution_count": 26,
   "id": "cf6c14f9",
   "metadata": {},
   "outputs": [],
   "source": [
    "UKR_CHANNELS = [\n",
    "    'Труха⚡️Украина', 'Лачен пишет', 'Украинская правда. Главное',\n",
    "    'Вы хотите как на Украине?', 'Борис Філатов', 'RAGNAROCK PRIVET',\n",
    "    'УНИАН - новости Украины | война с Россией | новини України | війна з Росією',\n",
    "    'Украина 24/7 Новости | Война | Новини', 'Быть Или',\n",
    "    'Украина Сейчас: новости, война, Россия'\n",
    "]\n",
    "\n",
    "UKR_LETTERS = ['ї', 'є', 'ґ', 'і']\n",
    "\n",
    "CHEAT_WORDS = [\n",
    "    '03', '04', '05', '1378', '2022', '3801', '3806', '4149', '4276',\n",
    "    '4279', '9521', '9842', 'akimapachev', 'amp', 'anna', 'com',\n",
    "    'daily', 'diza', 'donbass', 'epoddubny', 'https', 'index', 'me',\n",
    "    'news', 'opersvodki', 'pravda', 'rus', 'rvvoenkor', 'sashakots',\n",
    "    'ua', 'wargonzo', 'www', 'www pravda', 'мид', 'труха', 'труха украина',\n",
    "    'украина сейчас', 'pravda com', 'daily news', 'com ua', 'https www',\n",
    "    'me rvvoenkor', 'rus news', 'ua rus', 'wargonzo наш'\n",
    "]"
   ]
  },
  {
   "cell_type": "code",
   "execution_count": 27,
   "id": "93fdbfd9",
   "metadata": {},
   "outputs": [],
   "source": [
    "def time_decorator(function):\n",
    "    from time import time\n",
    "    def inner(*args, **kwargs):\n",
    "        start = time()\n",
    "        result = function(*args, **kwargs)\n",
    "        elapsed_time = round(time() - start, 2)\n",
    "        output = f'{function.__name__} took {elapsed_time} seconds.'\n",
    "        print(output)\n",
    "        return result\n",
    "    return inner"
   ]
  },
  {
   "cell_type": "code",
   "execution_count": 28,
   "id": "a1c5841f",
   "metadata": {},
   "outputs": [],
   "source": [
    "@time_decorator\n",
    "def read_data(filename='random_msgs.csv', sep='¶∆',\n",
    "                  header=None):\n",
    "    \"\"\"\n",
    "    Reads the csv file into 4 columns:\n",
    "    channel\n",
    "    date of publication\n",
    "    message\n",
    "    ukrainian - 1 if ukrainian channel, 0 - otherwise.\n",
    "    \"\"\"\n",
    "    data = pd.read_csv(filename, sep=sep, header=header)\n",
    "    data.columns = ['channel', 'date', 'msg']\n",
    "    data['ukrainian'] = data['channel'].\\\n",
    "        apply(lambda x: 1 if x in UKR_CHANNELS else 0)\n",
    "    data['ukrainian'] = data['ukrainian'].astype('int8')\n",
    "    data = data[data['channel'] != 'вечеряємо']\n",
    "    return data"
   ]
  },
  {
   "cell_type": "code",
   "execution_count": 29,
   "id": "ffdbee94",
   "metadata": {},
   "outputs": [
    {
     "name": "stdout",
     "output_type": "stream",
     "text": [
      "read_data took 1.16 seconds.\n"
     ]
    },
    {
     "data": {
      "text/html": [
       "<div>\n",
       "<style scoped>\n",
       "    .dataframe tbody tr th:only-of-type {\n",
       "        vertical-align: middle;\n",
       "    }\n",
       "\n",
       "    .dataframe tbody tr th {\n",
       "        vertical-align: top;\n",
       "    }\n",
       "\n",
       "    .dataframe thead th {\n",
       "        text-align: right;\n",
       "    }\n",
       "</style>\n",
       "<table border=\"1\" class=\"dataframe\">\n",
       "  <thead>\n",
       "    <tr style=\"text-align: right;\">\n",
       "      <th></th>\n",
       "      <th>channel</th>\n",
       "      <th>date</th>\n",
       "      <th>msg</th>\n",
       "      <th>ukrainian</th>\n",
       "    </tr>\n",
       "  </thead>\n",
       "  <tbody>\n",
       "    <tr>\n",
       "      <th>7198</th>\n",
       "      <td>Операция Z: Военкоры Русской Весны</td>\n",
       "      <td>2022-04-18 21:52:53+00:00</td>\n",
       "      <td>‼️🇷🇺Бои глазами экипажа БТР морской пехоты в М...</td>\n",
       "      <td>0</td>\n",
       "    </tr>\n",
       "    <tr>\n",
       "      <th>30134</th>\n",
       "      <td>Труха⚡️Украина</td>\n",
       "      <td>2022-05-13 19:00:56+00:00</td>\n",
       "      <td>Военная аналитика от Тома Купера.  В сегодняшн...</td>\n",
       "      <td>1</td>\n",
       "    </tr>\n",
       "    <tr>\n",
       "      <th>36511</th>\n",
       "      <td>Труха⚡️Украина</td>\n",
       "      <td>2022-04-03 19:30:21+00:00</td>\n",
       "      <td>🔞 Первые минуты после обстрела в одном из райо...</td>\n",
       "      <td>1</td>\n",
       "    </tr>\n",
       "    <tr>\n",
       "      <th>142021</th>\n",
       "      <td>КОРНИЛОВ</td>\n",
       "      <td>2022-03-10 08:36:31+00:00</td>\n",
       "      <td>Боже, ЧТО ОНО НЕСЕТ!!!! https://t.me/skabeeva/...</td>\n",
       "      <td>0</td>\n",
       "    </tr>\n",
       "    <tr>\n",
       "      <th>108714</th>\n",
       "      <td>СОЛОВЬЁВ</td>\n",
       "      <td>2022-05-24 11:10:22+00:00</td>\n",
       "      <td>🟪 ЛАБИРИНТ КАРНАУХОВА | СОЛОВЬЁВ LIVE  Сергей ...</td>\n",
       "      <td>0</td>\n",
       "    </tr>\n",
       "  </tbody>\n",
       "</table>\n",
       "</div>"
      ],
      "text/plain": [
       "                                   channel                       date  \\\n",
       "7198    Операция Z: Военкоры Русской Весны  2022-04-18 21:52:53+00:00   \n",
       "30134                       Труха⚡️Украина  2022-05-13 19:00:56+00:00   \n",
       "36511                       Труха⚡️Украина  2022-04-03 19:30:21+00:00   \n",
       "142021                            КОРНИЛОВ  2022-03-10 08:36:31+00:00   \n",
       "108714                            СОЛОВЬЁВ  2022-05-24 11:10:22+00:00   \n",
       "\n",
       "                                                      msg  ukrainian  \n",
       "7198    ‼️🇷🇺Бои глазами экипажа БТР морской пехоты в М...          0  \n",
       "30134   Военная аналитика от Тома Купера.  В сегодняшн...          1  \n",
       "36511   🔞 Первые минуты после обстрела в одном из райо...          1  \n",
       "142021  Боже, ЧТО ОНО НЕСЕТ!!!! https://t.me/skabeeva/...          0  \n",
       "108714  🟪 ЛАБИРИНТ КАРНАУХОВА | СОЛОВЬЁВ LIVE  Сергей ...          0  "
      ]
     },
     "execution_count": 29,
     "metadata": {},
     "output_type": "execute_result"
    }
   ],
   "source": [
    "data = read_data('random_msgs.csv')\n",
    "data.sample(5)"
   ]
  },
  {
   "cell_type": "code",
   "execution_count": 30,
   "id": "e55df532",
   "metadata": {},
   "outputs": [],
   "source": [
    "@time_decorator\n",
    "def preprocess(data, remove_ukr_msgs=True, cut_less_than=18):\n",
    "    \"\"\"\n",
    "    This method:\n",
    "    removes short messages (with less than 18 characters);\n",
    "    removes messages with ukrainian letters.\n",
    "    \"\"\"\n",
    "    if remove_ukr_msgs:\n",
    "        for letter in UKR_LETTERS:\n",
    "            data = data[data['msg'].str.lower().\\\n",
    "                                    str.contains(letter) == False]\n",
    "    data = data[data['msg'].str.len() > cut_less_than]\n",
    "    data = data.reset_index(drop=True)\n",
    "    return data"
   ]
  },
  {
   "cell_type": "code",
   "execution_count": 31,
   "id": "7d457846",
   "metadata": {},
   "outputs": [
    {
     "name": "stdout",
     "output_type": "stream",
     "text": [
      "preprocess took 1.08 seconds.\n"
     ]
    },
    {
     "data": {
      "text/plain": [
       "(138059, 4)"
      ]
     },
     "execution_count": 31,
     "metadata": {},
     "output_type": "execute_result"
    }
   ],
   "source": [
    "data = preprocess(data)\n",
    "data.shape"
   ]
  },
  {
   "cell_type": "markdown",
   "id": "c7ad9c21",
   "metadata": {},
   "source": [
    "# Russian embeddings"
   ]
  },
  {
   "cell_type": "markdown",
   "id": "bfeff30b",
   "metadata": {},
   "source": [
    "### Spacy"
   ]
  },
  {
   "cell_type": "code",
   "execution_count": 32,
   "id": "f11e7de8",
   "metadata": {},
   "outputs": [
    {
     "data": {
      "text/plain": [
       "'3.5.3'"
      ]
     },
     "execution_count": 32,
     "metadata": {},
     "output_type": "execute_result"
    }
   ],
   "source": [
    "nlp = spacy.load(\"ru_core_news_md\")\n",
    "spacy.__version__"
   ]
  },
  {
   "cell_type": "code",
   "execution_count": 33,
   "id": "148f0e17",
   "metadata": {},
   "outputs": [],
   "source": [
    "# !python3 -m spacy download ru_core_news_md\n",
    "# sleep(1)\n",
    "# clear_output()"
   ]
  },
  {
   "cell_type": "code",
   "execution_count": 34,
   "id": "1ba750a8",
   "metadata": {},
   "outputs": [
    {
     "data": {
      "text/plain": [
       "['tok2vec', 'morphologizer', 'parser', 'attribute_ruler', 'lemmatizer', 'ner']"
      ]
     },
     "execution_count": 34,
     "metadata": {},
     "output_type": "execute_result"
    }
   ],
   "source": [
    "nlp.pipe_names"
   ]
  },
  {
   "cell_type": "code",
   "execution_count": 35,
   "id": "8c3907b1",
   "metadata": {},
   "outputs": [
    {
     "data": {
      "text/plain": [
       "['tok2vec']"
      ]
     },
     "execution_count": 35,
     "metadata": {},
     "output_type": "execute_result"
    }
   ],
   "source": [
    "for pipe in nlp.pipe_names[1:]:\n",
    "    nlp.remove_pipe(pipe)\n",
    "nlp.pipe_names"
   ]
  },
  {
   "cell_type": "code",
   "execution_count": 36,
   "id": "fec17c69",
   "metadata": {},
   "outputs": [
    {
     "data": {
      "text/plain": [
       "((7, 96), (300,))"
      ]
     },
     "execution_count": 36,
     "metadata": {},
     "output_type": "execute_result"
    }
   ],
   "source": [
    "doc = nlp('Я тебя люблю но и ненавижу одновременно')\n",
    "doc.tensor.shape, doc.vector.shape"
   ]
  },
  {
   "cell_type": "markdown",
   "id": "384420a8",
   "metadata": {},
   "source": [
    "**This cell runs approx 2-3 mins**"
   ]
  },
  {
   "cell_type": "code",
   "execution_count": 37,
   "id": "f44e47d2",
   "metadata": {},
   "outputs": [
    {
     "data": {
      "text/plain": [
       "'0.0739'"
      ]
     },
     "execution_count": 37,
     "metadata": {},
     "output_type": "execute_result"
    }
   ],
   "source": [
    "start = time()\n",
    "# vectors = np.array([sent.vector for sent in data['msg'].map(nlp)])\n",
    "# tensors = torch.from_numpy(vectors)\n",
    "# torch.save(tensors, 'word_tensors.pt')\n",
    "tensors = torch.load('word_tensors.pt')\n",
    "f'{time() - start:.4f}'"
   ]
  },
  {
   "cell_type": "code",
   "execution_count": 38,
   "id": "ba4a9bfc",
   "metadata": {},
   "outputs": [
    {
     "data": {
      "text/plain": [
       "tensor([ 4.8718e-02, -1.0175e-01,  3.7081e-02,  4.2260e-02,  5.9182e-02,\n",
       "         2.4718e-02,  4.4870e-02, -3.5494e-02, -4.1296e-02,  1.6422e-05])"
      ]
     },
     "execution_count": 38,
     "metadata": {},
     "output_type": "execute_result"
    }
   ],
   "source": [
    "tensors[1234][:10]"
   ]
  },
  {
   "cell_type": "code",
   "execution_count": 39,
   "id": "b3b0260d",
   "metadata": {},
   "outputs": [
    {
     "data": {
      "text/plain": [
       "channel                                     Оперативные сводки\n",
       "date                                 2022-04-18 05:07:24+00:00\n",
       "msg          ⚡️ На этих уникальных кадрах очередная украинс...\n",
       "ukrainian                                                    0\n",
       "Name: 1234, dtype: object"
      ]
     },
     "execution_count": 39,
     "metadata": {},
     "output_type": "execute_result"
    }
   ],
   "source": [
    "data.iloc[1234]"
   ]
  },
  {
   "cell_type": "code",
   "execution_count": 40,
   "id": "e0dbe948",
   "metadata": {},
   "outputs": [],
   "source": [
    "data.to_csv('processed.csv', index=False)"
   ]
  },
  {
   "cell_type": "code",
   "execution_count": 41,
   "id": "96f6a891",
   "metadata": {},
   "outputs": [
    {
     "data": {
      "text/plain": [
       "(138059, 4)"
      ]
     },
     "execution_count": 41,
     "metadata": {},
     "output_type": "execute_result"
    }
   ],
   "source": [
    "data = pd.read_csv('processed.csv')\n",
    "data.shape"
   ]
  },
  {
   "cell_type": "code",
   "execution_count": 42,
   "id": "514203ca",
   "metadata": {},
   "outputs": [
    {
     "data": {
      "text/html": [
       "<div>\n",
       "<style scoped>\n",
       "    .dataframe tbody tr th:only-of-type {\n",
       "        vertical-align: middle;\n",
       "    }\n",
       "\n",
       "    .dataframe tbody tr th {\n",
       "        vertical-align: top;\n",
       "    }\n",
       "\n",
       "    .dataframe thead th {\n",
       "        text-align: right;\n",
       "    }\n",
       "</style>\n",
       "<table border=\"1\" class=\"dataframe\">\n",
       "  <thead>\n",
       "    <tr style=\"text-align: right;\">\n",
       "      <th></th>\n",
       "      <th>channel</th>\n",
       "      <th>date</th>\n",
       "      <th>msg</th>\n",
       "      <th>ukrainian</th>\n",
       "    </tr>\n",
       "  </thead>\n",
       "  <tbody>\n",
       "    <tr>\n",
       "      <th>103082</th>\n",
       "      <td>СОЛОВЬЁВ</td>\n",
       "      <td>2022-05-13 16:43:03+00:00</td>\n",
       "      <td>📞🇷🇺🇺🇸 13 мая с.г по инициативе американской ст...</td>\n",
       "      <td>0</td>\n",
       "    </tr>\n",
       "    <tr>\n",
       "      <th>24425</th>\n",
       "      <td>Лачен пишет</td>\n",
       "      <td>2022-03-04 15:47:23+00:00</td>\n",
       "      <td>В военной администрации Кривого Рога провели б...</td>\n",
       "      <td>1</td>\n",
       "    </tr>\n",
       "  </tbody>\n",
       "</table>\n",
       "</div>"
      ],
      "text/plain": [
       "            channel                       date  \\\n",
       "103082     СОЛОВЬЁВ  2022-05-13 16:43:03+00:00   \n",
       "24425   Лачен пишет  2022-03-04 15:47:23+00:00   \n",
       "\n",
       "                                                      msg  ukrainian  \n",
       "103082  📞🇷🇺🇺🇸 13 мая с.г по инициативе американской ст...          0  \n",
       "24425   В военной администрации Кривого Рога провели б...          1  "
      ]
     },
     "execution_count": 42,
     "metadata": {},
     "output_type": "execute_result"
    }
   ],
   "source": [
    "data.sample(2)"
   ]
  },
  {
   "cell_type": "code",
   "execution_count": null,
   "id": "157dcf3f",
   "metadata": {},
   "outputs": [],
   "source": []
  },
  {
   "cell_type": "code",
   "execution_count": 47,
   "id": "b7efef19",
   "metadata": {},
   "outputs": [
    {
     "data": {
      "text/plain": [
       "(torch.Size([138059, 300]), torch.Size([138059]))"
      ]
     },
     "execution_count": 47,
     "metadata": {},
     "output_type": "execute_result"
    }
   ],
   "source": [
    "labels = torch.from_numpy(data['ukrainian'].values)\n",
    "tensors.shape, labels.shape"
   ]
  },
  {
   "cell_type": "code",
   "execution_count": 48,
   "id": "dd1d0a25",
   "metadata": {},
   "outputs": [],
   "source": [
    "X_train, X_test = tensors[:110_000], tensors[110_000:]\n",
    "y_train, y_test = labels[:110_000], labels[110_000:]"
   ]
  },
  {
   "cell_type": "code",
   "execution_count": 60,
   "id": "dd83ece0",
   "metadata": {},
   "outputs": [
    {
     "data": {
      "text/plain": [
       "(tensor([ 0.0182, -0.1146, -0.0090,  0.0096,  0.0541]),\n",
       " tensor([ 0.0204, -0.1096, -0.0073,  0.0082,  0.0596]))"
      ]
     },
     "execution_count": 60,
     "metadata": {},
     "output_type": "execute_result"
    }
   ],
   "source": [
    "ukr_centre = X_train[y_train == 1].mean(0).view(1, -1)\n",
    "rus_centre = X_train[y_train == 0].mean(0).view(1, -1)\n",
    "ukr_centre[0, :5], rus_centre[0, :5]"
   ]
  },
  {
   "cell_type": "code",
   "execution_count": 62,
   "id": "a436c068",
   "metadata": {},
   "outputs": [],
   "source": [
    "dist_to_ukr = cdist(ukr_centre, X_test, metric='euclidean')[0]\n",
    "dist_to_rus = cdist(rus_centre, X_test, metric='euclidean')[0]"
   ]
  },
  {
   "cell_type": "code",
   "execution_count": 63,
   "id": "02298363",
   "metadata": {},
   "outputs": [],
   "source": [
    "ukr_pred = np.array([dist_to_ukr < dist_to_rus]).reshape((-1, 1))"
   ]
  },
  {
   "cell_type": "code",
   "execution_count": 65,
   "id": "229070ed",
   "metadata": {},
   "outputs": [
    {
     "data": {
      "text/plain": [
       "53.97"
      ]
     },
     "execution_count": 65,
     "metadata": {},
     "output_type": "execute_result"
    }
   ],
   "source": [
    "ukr_test = np.array(y_test).astype(bool).reshape((-1, 1))\n",
    "accuracy = round(100 * np.sum(ukr_pred == ukr_test) / len(ukr_test), 2)\n",
    "accuracy"
   ]
  }
 ],
 "metadata": {
  "kernelspec": {
   "display_name": "Python 3 (ipykernel)",
   "language": "python",
   "name": "python3"
  },
  "language_info": {
   "codemirror_mode": {
    "name": "ipython",
    "version": 3
   },
   "file_extension": ".py",
   "mimetype": "text/x-python",
   "name": "python",
   "nbconvert_exporter": "python",
   "pygments_lexer": "ipython3",
   "version": "3.9.5"
  }
 },
 "nbformat": 4,
 "nbformat_minor": 5
}
